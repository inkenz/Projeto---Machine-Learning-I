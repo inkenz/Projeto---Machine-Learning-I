{
 "cells": [
  {
   "cell_type": "markdown",
   "metadata": {},
   "source": [
    "# Projeto | Machine Learning I - Problema de Classificação\n",
    "\n",
    "- Feito por: Kenzo Inanami de Faria | Id: 1116024\n",
    "\n",
    "## Conjunto de dados\n",
    "\n",
    "Para esse projeto foi utilizado o conjunto de dados [Machine Failure Predictions](https://www.kaggle.com/datasets/dineshmanikanta/machine-failure-predictions/data) retirado da plataforma Kaggle. Ele é formado por tuplas que representam máquinas com ou sem falhas.\n",
    "Esse é um conjunto para tarefas de classificação, devemos treinar um modelo para identificar quando uma máquina está com falha.\n",
    "\n",
    "## Objetivos\n",
    "\n",
    "Utilizando Scikit-learn, treinar modelos de Random Forest e KNN utilizando técnicas de otimização de hiper-parâmentros, depois, a partir de métricas de avaliação, determinar qual dos modelos performou melhor.\n"
   ]
  },
  {
   "cell_type": "markdown",
   "metadata": {},
   "source": [
    "## Importações\n"
   ]
  },
  {
   "cell_type": "markdown",
   "metadata": {},
   "source": [
    "### Bibliotecas e classes utilizadas\n"
   ]
  },
  {
   "cell_type": "code",
   "execution_count": 286,
   "metadata": {},
   "outputs": [],
   "source": [
    "import pandas as pd\n",
    "import numpy as np\n",
    "import matplotlib.pyplot as plt\n",
    "from imblearn.under_sampling import RandomUnderSampler\n",
    "from imblearn.over_sampling import RandomOverSampler\n",
    "from sklearn.model_selection import train_test_split\n",
    "from sklearn.neighbors import KNeighborsClassifier\n",
    "from sklearn.ensemble import RandomForestClassifier\n",
    "from sklearn.metrics import confusion_matrix, accuracy_score, classification_report, roc_curve, roc_auc_score, RocCurveDisplay\n",
    "from sklearn.model_selection import GridSearchCV"
   ]
  },
  {
   "cell_type": "markdown",
   "metadata": {},
   "source": [
    "### Conjunto de dados\n"
   ]
  },
  {
   "cell_type": "code",
   "execution_count": 232,
   "metadata": {},
   "outputs": [
    {
     "data": {
      "text/html": [
       "<div>\n",
       "<style scoped>\n",
       "    .dataframe tbody tr th:only-of-type {\n",
       "        vertical-align: middle;\n",
       "    }\n",
       "\n",
       "    .dataframe tbody tr th {\n",
       "        vertical-align: top;\n",
       "    }\n",
       "\n",
       "    .dataframe thead th {\n",
       "        text-align: right;\n",
       "    }\n",
       "</style>\n",
       "<table border=\"1\" class=\"dataframe\">\n",
       "  <thead>\n",
       "    <tr style=\"text-align: right;\">\n",
       "      <th></th>\n",
       "      <th>UDI</th>\n",
       "      <th>Product ID</th>\n",
       "      <th>Type</th>\n",
       "      <th>Air temperature [K]</th>\n",
       "      <th>Process temperature [K]</th>\n",
       "      <th>Rotational speed [rpm]</th>\n",
       "      <th>Torque [Nm]</th>\n",
       "      <th>Tool wear [min]</th>\n",
       "      <th>Machine failure</th>\n",
       "      <th>TWF</th>\n",
       "      <th>HDF</th>\n",
       "      <th>PWF</th>\n",
       "      <th>OSF</th>\n",
       "      <th>RNF</th>\n",
       "    </tr>\n",
       "  </thead>\n",
       "  <tbody>\n",
       "    <tr>\n",
       "      <th>0</th>\n",
       "      <td>1</td>\n",
       "      <td>M14860</td>\n",
       "      <td>M</td>\n",
       "      <td>298.1</td>\n",
       "      <td>308.6</td>\n",
       "      <td>1551</td>\n",
       "      <td>42.8</td>\n",
       "      <td>0</td>\n",
       "      <td>0</td>\n",
       "      <td>0</td>\n",
       "      <td>0</td>\n",
       "      <td>0</td>\n",
       "      <td>0</td>\n",
       "      <td>0</td>\n",
       "    </tr>\n",
       "    <tr>\n",
       "      <th>1</th>\n",
       "      <td>2</td>\n",
       "      <td>L47181</td>\n",
       "      <td>L</td>\n",
       "      <td>298.2</td>\n",
       "      <td>308.7</td>\n",
       "      <td>1408</td>\n",
       "      <td>46.3</td>\n",
       "      <td>3</td>\n",
       "      <td>0</td>\n",
       "      <td>0</td>\n",
       "      <td>0</td>\n",
       "      <td>0</td>\n",
       "      <td>0</td>\n",
       "      <td>0</td>\n",
       "    </tr>\n",
       "    <tr>\n",
       "      <th>2</th>\n",
       "      <td>3</td>\n",
       "      <td>L47182</td>\n",
       "      <td>L</td>\n",
       "      <td>298.1</td>\n",
       "      <td>308.5</td>\n",
       "      <td>1498</td>\n",
       "      <td>49.4</td>\n",
       "      <td>5</td>\n",
       "      <td>0</td>\n",
       "      <td>0</td>\n",
       "      <td>0</td>\n",
       "      <td>0</td>\n",
       "      <td>0</td>\n",
       "      <td>0</td>\n",
       "    </tr>\n",
       "    <tr>\n",
       "      <th>3</th>\n",
       "      <td>4</td>\n",
       "      <td>L47183</td>\n",
       "      <td>L</td>\n",
       "      <td>298.2</td>\n",
       "      <td>308.6</td>\n",
       "      <td>1433</td>\n",
       "      <td>39.5</td>\n",
       "      <td>7</td>\n",
       "      <td>0</td>\n",
       "      <td>0</td>\n",
       "      <td>0</td>\n",
       "      <td>0</td>\n",
       "      <td>0</td>\n",
       "      <td>0</td>\n",
       "    </tr>\n",
       "    <tr>\n",
       "      <th>4</th>\n",
       "      <td>5</td>\n",
       "      <td>L47184</td>\n",
       "      <td>L</td>\n",
       "      <td>298.2</td>\n",
       "      <td>308.7</td>\n",
       "      <td>1408</td>\n",
       "      <td>40.0</td>\n",
       "      <td>9</td>\n",
       "      <td>0</td>\n",
       "      <td>0</td>\n",
       "      <td>0</td>\n",
       "      <td>0</td>\n",
       "      <td>0</td>\n",
       "      <td>0</td>\n",
       "    </tr>\n",
       "  </tbody>\n",
       "</table>\n",
       "</div>"
      ],
      "text/plain": [
       "   UDI Product ID Type  Air temperature [K]  Process temperature [K]  \\\n",
       "0    1     M14860    M                298.1                    308.6   \n",
       "1    2     L47181    L                298.2                    308.7   \n",
       "2    3     L47182    L                298.1                    308.5   \n",
       "3    4     L47183    L                298.2                    308.6   \n",
       "4    5     L47184    L                298.2                    308.7   \n",
       "\n",
       "   Rotational speed [rpm]  Torque [Nm]  Tool wear [min]  Machine failure  TWF  \\\n",
       "0                    1551         42.8                0                0    0   \n",
       "1                    1408         46.3                3                0    0   \n",
       "2                    1498         49.4                5                0    0   \n",
       "3                    1433         39.5                7                0    0   \n",
       "4                    1408         40.0                9                0    0   \n",
       "\n",
       "   HDF  PWF  OSF  RNF  \n",
       "0    0    0    0    0  \n",
       "1    0    0    0    0  \n",
       "2    0    0    0    0  \n",
       "3    0    0    0    0  \n",
       "4    0    0    0    0  "
      ]
     },
     "execution_count": 232,
     "metadata": {},
     "output_type": "execute_result"
    }
   ],
   "source": [
    "df = pd.read_csv('machine failure.csv')\n",
    "df.head()"
   ]
  },
  {
   "cell_type": "markdown",
   "metadata": {},
   "source": [
    "## Análise exploratória dos dados\n"
   ]
  },
  {
   "cell_type": "markdown",
   "metadata": {},
   "source": [
    "Para analisar os dados, vamos primeiro entender as variáveis do conjunto:\n",
    "\n",
    "- UDI e Product ID: São valores de identificação, sendo o primeiro um index para a listagem e Product ID um identificador da máquina.\n",
    "- Type: Se refere ao tipo da máquina, é uma variável categórica que pode assumir os valores L, M e H.\n",
    "- Air temperature [K]: Temperatura ambiente ao redor da máquina, em graus Kelvin\n",
    "- Process temperature [K]: Temperatura do processador, em graus Kelvin\n",
    "- Rotational speed [rpm]: Velocidade em que a máquina opera, em rotações por minuto\n",
    "- Torque [Nm]: Força para causar a rotação da máquina, em Newton-metro\n",
    "- Tool wear: Representa o grau de desgaste que a máquina apresenta devido ao tempo de funcionamento.\n",
    "- Machine failure: A classe, representa se a máquina apresenta falha(igual a 1) ou não(igual a 0).\n",
    "- TWF, HDF, PWF, OSF, RNF: É o tipo de falha que a máquina sofreu. também podem ser classes, mas não a especificidade da falha não foi explorada nesse trabalho\n"
   ]
  },
  {
   "cell_type": "code",
   "execution_count": 233,
   "metadata": {},
   "outputs": [
    {
     "name": "stdout",
     "output_type": "stream",
     "text": [
      "<class 'pandas.core.frame.DataFrame'>\n",
      "RangeIndex: 10000 entries, 0 to 9999\n",
      "Data columns (total 14 columns):\n",
      " #   Column                   Non-Null Count  Dtype  \n",
      "---  ------                   --------------  -----  \n",
      " 0   UDI                      10000 non-null  int64  \n",
      " 1   Product ID               10000 non-null  object \n",
      " 2   Type                     10000 non-null  object \n",
      " 3   Air temperature [K]      10000 non-null  float64\n",
      " 4   Process temperature [K]  10000 non-null  float64\n",
      " 5   Rotational speed [rpm]   10000 non-null  int64  \n",
      " 6   Torque [Nm]              10000 non-null  float64\n",
      " 7   Tool wear [min]          10000 non-null  int64  \n",
      " 8   Machine failure          10000 non-null  int64  \n",
      " 9   TWF                      10000 non-null  int64  \n",
      " 10  HDF                      10000 non-null  int64  \n",
      " 11  PWF                      10000 non-null  int64  \n",
      " 12  OSF                      10000 non-null  int64  \n",
      " 13  RNF                      10000 non-null  int64  \n",
      "dtypes: float64(3), int64(9), object(2)\n",
      "memory usage: 1.1+ MB\n"
     ]
    }
   ],
   "source": [
    "df.info()"
   ]
  },
  {
   "cell_type": "markdown",
   "metadata": {},
   "source": [
    "O conjunto de dados não apresenta valores nulos.\n"
   ]
  },
  {
   "cell_type": "markdown",
   "metadata": {},
   "source": [
    "### Explorando a variável type\n"
   ]
  },
  {
   "cell_type": "markdown",
   "metadata": {},
   "source": [
    "Existe um desbalanceamento nos valores que Type pode assumir, possuindo mais máquinas do tipo L.\n"
   ]
  },
  {
   "cell_type": "code",
   "execution_count": 235,
   "metadata": {},
   "outputs": [
    {
     "data": {
      "text/plain": [
       "Type\n",
       "L    0.6000\n",
       "M    0.2997\n",
       "H    0.1003\n",
       "Name: proportion, dtype: float64"
      ]
     },
     "execution_count": 235,
     "metadata": {},
     "output_type": "execute_result"
    }
   ],
   "source": [
    "df['Type'].value_counts(normalize=True)"
   ]
  },
  {
   "cell_type": "markdown",
   "metadata": {},
   "source": [
    "#### O tipo da máquina influência na chance de falhas?\n"
   ]
  },
  {
   "cell_type": "code",
   "execution_count": 236,
   "metadata": {},
   "outputs": [
    {
     "name": "stdout",
     "output_type": "stream",
     "text": [
      "L: 0.03916666666666667\n",
      "M: 0.02769436102769436\n",
      "H: 0.020937188434695914\n"
     ]
    }
   ],
   "source": [
    "prob_L=len(df[(df['Type'] == 'L') & (df['Machine failure'] == 1)])/len(df[(df['Type'] == 'L')])\n",
    "prob_M=len(df[(df['Type'] == 'M') & (df['Machine failure'] == 1)])/len(df[(df['Type'] == 'M')])\n",
    "prob_H=len(df[(df['Type'] == 'H') & (df['Machine failure'] == 1)])/len(df[(df['Type'] == 'H')])\n",
    "\n",
    "print(f'L: {prob_L}')\n",
    "print(f'M: {prob_M}')\n",
    "print(f'H: {prob_H}')"
   ]
  },
  {
   "cell_type": "markdown",
   "metadata": {},
   "source": [
    "Não foi possível determinar se o tipo influência na quantidade de falhas, pois o resultado pode ter sido afetado pelo desbalanceamento do atributo.\n",
    "\n",
    "Agora, vamos ver se tipos diferentes de máquinas possuem tipos diferentes de falhas:\n"
   ]
  },
  {
   "cell_type": "code",
   "execution_count": 237,
   "metadata": {},
   "outputs": [
    {
     "data": {
      "text/html": [
       "<div>\n",
       "<style scoped>\n",
       "    .dataframe tbody tr th:only-of-type {\n",
       "        vertical-align: middle;\n",
       "    }\n",
       "\n",
       "    .dataframe tbody tr th {\n",
       "        vertical-align: top;\n",
       "    }\n",
       "\n",
       "    .dataframe thead th {\n",
       "        text-align: right;\n",
       "    }\n",
       "</style>\n",
       "<table border=\"1\" class=\"dataframe\">\n",
       "  <thead>\n",
       "    <tr style=\"text-align: right;\">\n",
       "      <th></th>\n",
       "      <th>TWF</th>\n",
       "      <th>HDF</th>\n",
       "      <th>PWF</th>\n",
       "      <th>OSF</th>\n",
       "      <th>RNF</th>\n",
       "    </tr>\n",
       "  </thead>\n",
       "  <tbody>\n",
       "    <tr>\n",
       "      <th>50</th>\n",
       "      <td>0</td>\n",
       "      <td>0</td>\n",
       "      <td>1</td>\n",
       "      <td>0</td>\n",
       "      <td>0</td>\n",
       "    </tr>\n",
       "    <tr>\n",
       "      <th>69</th>\n",
       "      <td>0</td>\n",
       "      <td>0</td>\n",
       "      <td>1</td>\n",
       "      <td>1</td>\n",
       "      <td>0</td>\n",
       "    </tr>\n",
       "    <tr>\n",
       "      <th>77</th>\n",
       "      <td>1</td>\n",
       "      <td>0</td>\n",
       "      <td>0</td>\n",
       "      <td>0</td>\n",
       "      <td>0</td>\n",
       "    </tr>\n",
       "    <tr>\n",
       "      <th>160</th>\n",
       "      <td>0</td>\n",
       "      <td>0</td>\n",
       "      <td>0</td>\n",
       "      <td>1</td>\n",
       "      <td>0</td>\n",
       "    </tr>\n",
       "    <tr>\n",
       "      <th>161</th>\n",
       "      <td>0</td>\n",
       "      <td>0</td>\n",
       "      <td>0</td>\n",
       "      <td>1</td>\n",
       "      <td>0</td>\n",
       "    </tr>\n",
       "    <tr>\n",
       "      <th>...</th>\n",
       "      <td>...</td>\n",
       "      <td>...</td>\n",
       "      <td>...</td>\n",
       "      <td>...</td>\n",
       "      <td>...</td>\n",
       "    </tr>\n",
       "    <tr>\n",
       "      <th>9758</th>\n",
       "      <td>1</td>\n",
       "      <td>0</td>\n",
       "      <td>0</td>\n",
       "      <td>0</td>\n",
       "      <td>0</td>\n",
       "    </tr>\n",
       "    <tr>\n",
       "      <th>9764</th>\n",
       "      <td>0</td>\n",
       "      <td>0</td>\n",
       "      <td>1</td>\n",
       "      <td>0</td>\n",
       "      <td>0</td>\n",
       "    </tr>\n",
       "    <tr>\n",
       "      <th>9822</th>\n",
       "      <td>0</td>\n",
       "      <td>0</td>\n",
       "      <td>0</td>\n",
       "      <td>1</td>\n",
       "      <td>0</td>\n",
       "    </tr>\n",
       "    <tr>\n",
       "      <th>9830</th>\n",
       "      <td>0</td>\n",
       "      <td>0</td>\n",
       "      <td>0</td>\n",
       "      <td>1</td>\n",
       "      <td>0</td>\n",
       "    </tr>\n",
       "    <tr>\n",
       "      <th>9974</th>\n",
       "      <td>0</td>\n",
       "      <td>0</td>\n",
       "      <td>1</td>\n",
       "      <td>1</td>\n",
       "      <td>0</td>\n",
       "    </tr>\n",
       "  </tbody>\n",
       "</table>\n",
       "<p>235 rows × 5 columns</p>\n",
       "</div>"
      ],
      "text/plain": [
       "      TWF  HDF  PWF  OSF  RNF\n",
       "50      0    0    1    0    0\n",
       "69      0    0    1    1    0\n",
       "77      1    0    0    0    0\n",
       "160     0    0    0    1    0\n",
       "161     0    0    0    1    0\n",
       "...   ...  ...  ...  ...  ...\n",
       "9758    1    0    0    0    0\n",
       "9764    0    0    1    0    0\n",
       "9822    0    0    0    1    0\n",
       "9830    0    0    0    1    0\n",
       "9974    0    0    1    1    0\n",
       "\n",
       "[235 rows x 5 columns]"
      ]
     },
     "execution_count": 237,
     "metadata": {},
     "output_type": "execute_result"
    }
   ],
   "source": [
    "df[(df['Type'] == 'L') & (df['Machine failure'] == 1)][['TWF','HDF','PWF','OSF','RNF']]"
   ]
  },
  {
   "cell_type": "code",
   "execution_count": 238,
   "metadata": {},
   "outputs": [],
   "source": [
    "df_L = df.loc[df['Type'] == 'L']\n",
    "df_M = df.loc[df['Type'] == 'M']\n",
    "df_H = df.loc[df['Type'] == 'H']"
   ]
  },
  {
   "cell_type": "code",
   "execution_count": 239,
   "metadata": {},
   "outputs": [],
   "source": [
    "def print_errors_freq(df):\n",
    "\tfreq = {}\n",
    "\ttypes_of_error = ['TWF','HDF','PWF','OSF','RNF']\n",
    "\n",
    "\tfor error in types_of_error:\n",
    "\t\tfreq[error] = len(df[df[error] == 1])/len(df[df['Machine failure'] == 1])\n",
    "\n",
    "\tfreq_sorted = {k: v for k, v in sorted(freq.items(), key=lambda item: item[1], reverse=True)}\n",
    "\n",
    "\tfor f in freq_sorted:\n",
    "\t\tprint(f'{f}: {freq[f]}')"
   ]
  },
  {
   "cell_type": "code",
   "execution_count": 240,
   "metadata": {},
   "outputs": [
    {
     "name": "stdout",
     "output_type": "stream",
     "text": [
      "OSF: 0.3702127659574468\n",
      "HDF: 0.32340425531914896\n",
      "PWF: 0.251063829787234\n",
      "TWF: 0.10638297872340426\n",
      "RNF: 0.05531914893617021\n"
     ]
    }
   ],
   "source": [
    "print_errors_freq(df_L)"
   ]
  },
  {
   "cell_type": "code",
   "execution_count": 241,
   "metadata": {},
   "outputs": [
    {
     "name": "stdout",
     "output_type": "stream",
     "text": [
      "HDF: 0.37349397590361444\n",
      "PWF: 0.37349397590361444\n",
      "TWF: 0.1686746987951807\n",
      "OSF: 0.10843373493975904\n",
      "RNF: 0.024096385542168676\n"
     ]
    }
   ],
   "source": [
    "print_errors_freq(df_M)"
   ]
  },
  {
   "cell_type": "code",
   "execution_count": 242,
   "metadata": {},
   "outputs": [
    {
     "name": "stdout",
     "output_type": "stream",
     "text": [
      "HDF: 0.38095238095238093\n",
      "TWF: 0.3333333333333333\n",
      "PWF: 0.23809523809523808\n",
      "RNF: 0.19047619047619047\n",
      "OSF: 0.09523809523809523\n"
     ]
    }
   ],
   "source": [
    "print_errors_freq(df_H)"
   ]
  },
  {
   "cell_type": "markdown",
   "metadata": {},
   "source": [
    "Analisando as frequências podemos ver que HDF é um tipo frequente em todos os tipos de máquinas. Porém, o resto parece variar de máquina em máquina. É possível concluir que sim, o tipo de máquina influência no tipo de falha.\n"
   ]
  },
  {
   "cell_type": "markdown",
   "metadata": {},
   "source": [
    "## Pré-processamento\n"
   ]
  },
  {
   "cell_type": "markdown",
   "metadata": {},
   "source": [
    "Primeiro, vamos excluir o index e o identificador:\n"
   ]
  },
  {
   "cell_type": "code",
   "execution_count": 243,
   "metadata": {},
   "outputs": [
    {
     "data": {
      "text/plain": [
       "10000"
      ]
     },
     "execution_count": 243,
     "metadata": {},
     "output_type": "execute_result"
    }
   ],
   "source": [
    "df['UDI'].nunique()"
   ]
  },
  {
   "cell_type": "code",
   "execution_count": 244,
   "metadata": {},
   "outputs": [
    {
     "data": {
      "text/plain": [
       "10000"
      ]
     },
     "execution_count": 244,
     "metadata": {},
     "output_type": "execute_result"
    }
   ],
   "source": [
    "df['Product ID'].nunique()"
   ]
  },
  {
   "cell_type": "code",
   "execution_count": 245,
   "metadata": {},
   "outputs": [
    {
     "data": {
      "text/html": [
       "<div>\n",
       "<style scoped>\n",
       "    .dataframe tbody tr th:only-of-type {\n",
       "        vertical-align: middle;\n",
       "    }\n",
       "\n",
       "    .dataframe tbody tr th {\n",
       "        vertical-align: top;\n",
       "    }\n",
       "\n",
       "    .dataframe thead th {\n",
       "        text-align: right;\n",
       "    }\n",
       "</style>\n",
       "<table border=\"1\" class=\"dataframe\">\n",
       "  <thead>\n",
       "    <tr style=\"text-align: right;\">\n",
       "      <th></th>\n",
       "      <th>Type</th>\n",
       "      <th>Air temperature [K]</th>\n",
       "      <th>Process temperature [K]</th>\n",
       "      <th>Rotational speed [rpm]</th>\n",
       "      <th>Torque [Nm]</th>\n",
       "      <th>Tool wear [min]</th>\n",
       "      <th>Machine failure</th>\n",
       "      <th>TWF</th>\n",
       "      <th>HDF</th>\n",
       "      <th>PWF</th>\n",
       "      <th>OSF</th>\n",
       "      <th>RNF</th>\n",
       "    </tr>\n",
       "  </thead>\n",
       "  <tbody>\n",
       "    <tr>\n",
       "      <th>0</th>\n",
       "      <td>M</td>\n",
       "      <td>298.1</td>\n",
       "      <td>308.6</td>\n",
       "      <td>1551</td>\n",
       "      <td>42.8</td>\n",
       "      <td>0</td>\n",
       "      <td>0</td>\n",
       "      <td>0</td>\n",
       "      <td>0</td>\n",
       "      <td>0</td>\n",
       "      <td>0</td>\n",
       "      <td>0</td>\n",
       "    </tr>\n",
       "    <tr>\n",
       "      <th>1</th>\n",
       "      <td>L</td>\n",
       "      <td>298.2</td>\n",
       "      <td>308.7</td>\n",
       "      <td>1408</td>\n",
       "      <td>46.3</td>\n",
       "      <td>3</td>\n",
       "      <td>0</td>\n",
       "      <td>0</td>\n",
       "      <td>0</td>\n",
       "      <td>0</td>\n",
       "      <td>0</td>\n",
       "      <td>0</td>\n",
       "    </tr>\n",
       "    <tr>\n",
       "      <th>2</th>\n",
       "      <td>L</td>\n",
       "      <td>298.1</td>\n",
       "      <td>308.5</td>\n",
       "      <td>1498</td>\n",
       "      <td>49.4</td>\n",
       "      <td>5</td>\n",
       "      <td>0</td>\n",
       "      <td>0</td>\n",
       "      <td>0</td>\n",
       "      <td>0</td>\n",
       "      <td>0</td>\n",
       "      <td>0</td>\n",
       "    </tr>\n",
       "    <tr>\n",
       "      <th>3</th>\n",
       "      <td>L</td>\n",
       "      <td>298.2</td>\n",
       "      <td>308.6</td>\n",
       "      <td>1433</td>\n",
       "      <td>39.5</td>\n",
       "      <td>7</td>\n",
       "      <td>0</td>\n",
       "      <td>0</td>\n",
       "      <td>0</td>\n",
       "      <td>0</td>\n",
       "      <td>0</td>\n",
       "      <td>0</td>\n",
       "    </tr>\n",
       "    <tr>\n",
       "      <th>4</th>\n",
       "      <td>L</td>\n",
       "      <td>298.2</td>\n",
       "      <td>308.7</td>\n",
       "      <td>1408</td>\n",
       "      <td>40.0</td>\n",
       "      <td>9</td>\n",
       "      <td>0</td>\n",
       "      <td>0</td>\n",
       "      <td>0</td>\n",
       "      <td>0</td>\n",
       "      <td>0</td>\n",
       "      <td>0</td>\n",
       "    </tr>\n",
       "  </tbody>\n",
       "</table>\n",
       "</div>"
      ],
      "text/plain": [
       "  Type  Air temperature [K]  Process temperature [K]  Rotational speed [rpm]  \\\n",
       "0    M                298.1                    308.6                    1551   \n",
       "1    L                298.2                    308.7                    1408   \n",
       "2    L                298.1                    308.5                    1498   \n",
       "3    L                298.2                    308.6                    1433   \n",
       "4    L                298.2                    308.7                    1408   \n",
       "\n",
       "   Torque [Nm]  Tool wear [min]  Machine failure  TWF  HDF  PWF  OSF  RNF  \n",
       "0         42.8                0                0    0    0    0    0    0  \n",
       "1         46.3                3                0    0    0    0    0    0  \n",
       "2         49.4                5                0    0    0    0    0    0  \n",
       "3         39.5                7                0    0    0    0    0    0  \n",
       "4         40.0                9                0    0    0    0    0    0  "
      ]
     },
     "execution_count": 245,
     "metadata": {},
     "output_type": "execute_result"
    }
   ],
   "source": [
    "df.drop(['UDI','Product ID'],axis=1,inplace=True)\n",
    "df.head()"
   ]
  },
  {
   "cell_type": "markdown",
   "metadata": {},
   "source": [
    "Aqui foi feito uma verificação final para ver se a variável Type seria mantida. Eu queria verificar se, para tipos diferentes de máquinas, os valores dos atributos possuiam uma média e variância significativamente diferentes para os casos de bom funcionamento ou com falhas.\n"
   ]
  },
  {
   "cell_type": "code",
   "execution_count": 246,
   "metadata": {},
   "outputs": [
    {
     "data": {
      "text/html": [
       "<div>\n",
       "<style scoped>\n",
       "    .dataframe tbody tr th:only-of-type {\n",
       "        vertical-align: middle;\n",
       "    }\n",
       "\n",
       "    .dataframe tbody tr th {\n",
       "        vertical-align: top;\n",
       "    }\n",
       "\n",
       "    .dataframe thead th {\n",
       "        text-align: right;\n",
       "    }\n",
       "</style>\n",
       "<table border=\"1\" class=\"dataframe\">\n",
       "  <thead>\n",
       "    <tr style=\"text-align: right;\">\n",
       "      <th></th>\n",
       "      <th>Air temperature [K]</th>\n",
       "      <th>Process temperature [K]</th>\n",
       "      <th>Rotational speed [rpm]</th>\n",
       "      <th>Torque [Nm]</th>\n",
       "      <th>Tool wear [min]</th>\n",
       "    </tr>\n",
       "  </thead>\n",
       "  <tbody>\n",
       "    <tr>\n",
       "      <th>mean</th>\n",
       "      <td>300.015833</td>\n",
       "      <td>310.012300</td>\n",
       "      <td>1539.469167</td>\n",
       "      <td>39.996600</td>\n",
       "      <td>108.378833</td>\n",
       "    </tr>\n",
       "    <tr>\n",
       "      <th>mean_has_failure</th>\n",
       "      <td>300.756596</td>\n",
       "      <td>310.248511</td>\n",
       "      <td>1482.408511</td>\n",
       "      <td>50.785106</td>\n",
       "      <td>148.889362</td>\n",
       "    </tr>\n",
       "    <tr>\n",
       "      <th>std</th>\n",
       "      <td>1.987453</td>\n",
       "      <td>1.475247</td>\n",
       "      <td>180.428518</td>\n",
       "      <td>10.012335</td>\n",
       "      <td>64.058238</td>\n",
       "    </tr>\n",
       "    <tr>\n",
       "      <th>std_has_failure</th>\n",
       "      <td>2.086994</td>\n",
       "      <td>1.356635</td>\n",
       "      <td>373.927371</td>\n",
       "      <td>15.846539</td>\n",
       "      <td>72.445828</td>\n",
       "    </tr>\n",
       "  </tbody>\n",
       "</table>\n",
       "</div>"
      ],
      "text/plain": [
       "                  Air temperature [K]  Process temperature [K]  \\\n",
       "mean                       300.015833               310.012300   \n",
       "mean_has_failure           300.756596               310.248511   \n",
       "std                          1.987453                 1.475247   \n",
       "std_has_failure              2.086994                 1.356635   \n",
       "\n",
       "                  Rotational speed [rpm]  Torque [Nm]  Tool wear [min]  \n",
       "mean                         1539.469167    39.996600       108.378833  \n",
       "mean_has_failure             1482.408511    50.785106       148.889362  \n",
       "std                           180.428518    10.012335        64.058238  \n",
       "std_has_failure               373.927371    15.846539        72.445828  "
      ]
     },
     "execution_count": 246,
     "metadata": {},
     "output_type": "execute_result"
    }
   ],
   "source": [
    "att = ['Air temperature [K]', 'Process temperature [K]',\n",
    "       'Rotational speed [rpm]', 'Torque [Nm]', 'Tool wear [min]']\n",
    "\n",
    "aux = [df_L[att].mean().values,\n",
    "       df_L[df_L['Machine failure'] == 1][att].mean().values,\n",
    "       df_L[att].std().values,\n",
    "       df_L[df_L['Machine failure'] == 1][att].std().values]\n",
    "df_L_att = pd.DataFrame(aux,index=['mean','mean_has_failure','std','std_has_failure'],columns=att)\n",
    "df_L_att"
   ]
  },
  {
   "cell_type": "code",
   "execution_count": 247,
   "metadata": {},
   "outputs": [
    {
     "data": {
      "text/html": [
       "<div>\n",
       "<style scoped>\n",
       "    .dataframe tbody tr th:only-of-type {\n",
       "        vertical-align: middle;\n",
       "    }\n",
       "\n",
       "    .dataframe tbody tr th {\n",
       "        vertical-align: top;\n",
       "    }\n",
       "\n",
       "    .dataframe thead th {\n",
       "        text-align: right;\n",
       "    }\n",
       "</style>\n",
       "<table border=\"1\" class=\"dataframe\">\n",
       "  <thead>\n",
       "    <tr style=\"text-align: right;\">\n",
       "      <th></th>\n",
       "      <th>Air temperature [K]</th>\n",
       "      <th>Process temperature [K]</th>\n",
       "      <th>Rotational speed [rpm]</th>\n",
       "      <th>Torque [Nm]</th>\n",
       "      <th>Tool wear [min]</th>\n",
       "    </tr>\n",
       "  </thead>\n",
       "  <tbody>\n",
       "    <tr>\n",
       "      <th>mean</th>\n",
       "      <td>300.029263</td>\n",
       "      <td>310.018785</td>\n",
       "      <td>1537.598932</td>\n",
       "      <td>40.017251</td>\n",
       "      <td>107.272272</td>\n",
       "    </tr>\n",
       "    <tr>\n",
       "      <th>mean_has_failure</th>\n",
       "      <td>301.186747</td>\n",
       "      <td>310.402410</td>\n",
       "      <td>1550.036145</td>\n",
       "      <td>48.242169</td>\n",
       "      <td>129.289157</td>\n",
       "    </tr>\n",
       "    <tr>\n",
       "      <th>std</th>\n",
       "      <td>2.017358</td>\n",
       "      <td>1.498407</td>\n",
       "      <td>179.059828</td>\n",
       "      <td>9.992153</td>\n",
       "      <td>63.044646</td>\n",
       "    </tr>\n",
       "    <tr>\n",
       "      <th>std_has_failure</th>\n",
       "      <td>1.993023</td>\n",
       "      <td>1.359158</td>\n",
       "      <td>434.840606</td>\n",
       "      <td>18.415702</td>\n",
       "      <td>72.315624</td>\n",
       "    </tr>\n",
       "  </tbody>\n",
       "</table>\n",
       "</div>"
      ],
      "text/plain": [
       "                  Air temperature [K]  Process temperature [K]  \\\n",
       "mean                       300.029263               310.018785   \n",
       "mean_has_failure           301.186747               310.402410   \n",
       "std                          2.017358                 1.498407   \n",
       "std_has_failure              1.993023                 1.359158   \n",
       "\n",
       "                  Rotational speed [rpm]  Torque [Nm]  Tool wear [min]  \n",
       "mean                         1537.598932    40.017251       107.272272  \n",
       "mean_has_failure             1550.036145    48.242169       129.289157  \n",
       "std                           179.059828     9.992153        63.044646  \n",
       "std_has_failure               434.840606    18.415702        72.315624  "
      ]
     },
     "execution_count": 247,
     "metadata": {},
     "output_type": "execute_result"
    }
   ],
   "source": [
    "aux = [df_M[att].mean().values,\n",
    "       df_M[df_M['Machine failure'] == 1][att].mean().values,\n",
    "       df_M[att].std().values,\n",
    "       df_M[df_M['Machine failure'] == 1][att].std().values]\n",
    "df_M_att = pd.DataFrame(aux,index=['mean','mean_has_failure','std','std_has_failure'],columns=att)\n",
    "df_M_att"
   ]
  },
  {
   "cell_type": "code",
   "execution_count": 248,
   "metadata": {},
   "outputs": [
    {
     "data": {
      "text/html": [
       "<div>\n",
       "<style scoped>\n",
       "    .dataframe tbody tr th:only-of-type {\n",
       "        vertical-align: middle;\n",
       "    }\n",
       "\n",
       "    .dataframe tbody tr th {\n",
       "        vertical-align: top;\n",
       "    }\n",
       "\n",
       "    .dataframe thead th {\n",
       "        text-align: right;\n",
       "    }\n",
       "</style>\n",
       "<table border=\"1\" class=\"dataframe\">\n",
       "  <thead>\n",
       "    <tr style=\"text-align: right;\">\n",
       "      <th></th>\n",
       "      <th>Air temperature [K]</th>\n",
       "      <th>Process temperature [K]</th>\n",
       "      <th>Rotational speed [rpm]</th>\n",
       "      <th>Torque [Nm]</th>\n",
       "      <th>Tool wear [min]</th>\n",
       "    </tr>\n",
       "  </thead>\n",
       "  <tbody>\n",
       "    <tr>\n",
       "      <th>mean</th>\n",
       "      <td>299.866999</td>\n",
       "      <td>309.925723</td>\n",
       "      <td>1538.147557</td>\n",
       "      <td>39.838285</td>\n",
       "      <td>107.419741</td>\n",
       "    </tr>\n",
       "    <tr>\n",
       "      <th>mean_has_failure</th>\n",
       "      <td>301.152381</td>\n",
       "      <td>310.314286</td>\n",
       "      <td>1442.380952</td>\n",
       "      <td>50.876190</td>\n",
       "      <td>143.904762</td>\n",
       "    </tr>\n",
       "    <tr>\n",
       "      <th>std</th>\n",
       "      <td>2.021831</td>\n",
       "      <td>1.489362</td>\n",
       "      <td>173.133428</td>\n",
       "      <td>9.642339</td>\n",
       "      <td>63.080140</td>\n",
       "    </tr>\n",
       "    <tr>\n",
       "      <th>std_has_failure</th>\n",
       "      <td>2.150725</td>\n",
       "      <td>1.499095</td>\n",
       "      <td>275.313181</td>\n",
       "      <td>13.506291</td>\n",
       "      <td>73.776626</td>\n",
       "    </tr>\n",
       "  </tbody>\n",
       "</table>\n",
       "</div>"
      ],
      "text/plain": [
       "                  Air temperature [K]  Process temperature [K]  \\\n",
       "mean                       299.866999               309.925723   \n",
       "mean_has_failure           301.152381               310.314286   \n",
       "std                          2.021831                 1.489362   \n",
       "std_has_failure              2.150725                 1.499095   \n",
       "\n",
       "                  Rotational speed [rpm]  Torque [Nm]  Tool wear [min]  \n",
       "mean                         1538.147557    39.838285       107.419741  \n",
       "mean_has_failure             1442.380952    50.876190       143.904762  \n",
       "std                           173.133428     9.642339        63.080140  \n",
       "std_has_failure               275.313181    13.506291        73.776626  "
      ]
     },
     "execution_count": 248,
     "metadata": {},
     "output_type": "execute_result"
    }
   ],
   "source": [
    "aux = [df_H[att].mean().values,\n",
    "       df_H[df_H['Machine failure'] == 1][att].mean().values,\n",
    "       df_H[att].std().values,\n",
    "       df_H[df_H['Machine failure'] == 1][att].std().values]\n",
    "df_H_att = pd.DataFrame(aux,index=['mean','mean_has_failure','std','std_has_failure'],columns=att)\n",
    "df_H_att"
   ]
  },
  {
   "cell_type": "markdown",
   "metadata": {},
   "source": [
    "O que pude concluir a partir disso, é que diferentes tipos de máquina apresentam falhas em situações muito parecidas. Ou seja, é um atributo a ser excluído do processamento.\n",
    "\n",
    "Além disso, os tipos específicos de falhas foram excluídos, pois trabalharei com o valor geral 'Machine failures' como chave.\n"
   ]
  },
  {
   "cell_type": "code",
   "execution_count": 249,
   "metadata": {},
   "outputs": [],
   "source": [
    "df.drop(['TWF','HDF','PWF','OSF','RNF','Type'],axis=1,inplace=True)"
   ]
  },
  {
   "cell_type": "markdown",
   "metadata": {},
   "source": [
    "#### Normalização\n"
   ]
  },
  {
   "cell_type": "code",
   "execution_count": 250,
   "metadata": {},
   "outputs": [],
   "source": [
    "from sklearn.preprocessing import StandardScaler"
   ]
  },
  {
   "cell_type": "code",
   "execution_count": 251,
   "metadata": {},
   "outputs": [],
   "source": [
    "scaler = StandardScaler()\n",
    "df_normalized = df.copy()\n",
    "df_normalized[att] = pd.DataFrame(scaler.fit_transform(df[att]), columns=att)"
   ]
  },
  {
   "cell_type": "code",
   "execution_count": 252,
   "metadata": {},
   "outputs": [
    {
     "data": {
      "text/html": [
       "<div>\n",
       "<style scoped>\n",
       "    .dataframe tbody tr th:only-of-type {\n",
       "        vertical-align: middle;\n",
       "    }\n",
       "\n",
       "    .dataframe tbody tr th {\n",
       "        vertical-align: top;\n",
       "    }\n",
       "\n",
       "    .dataframe thead th {\n",
       "        text-align: right;\n",
       "    }\n",
       "</style>\n",
       "<table border=\"1\" class=\"dataframe\">\n",
       "  <thead>\n",
       "    <tr style=\"text-align: right;\">\n",
       "      <th></th>\n",
       "      <th>Air temperature [K]</th>\n",
       "      <th>Process temperature [K]</th>\n",
       "      <th>Rotational speed [rpm]</th>\n",
       "      <th>Torque [Nm]</th>\n",
       "      <th>Tool wear [min]</th>\n",
       "      <th>Machine failure</th>\n",
       "    </tr>\n",
       "  </thead>\n",
       "  <tbody>\n",
       "    <tr>\n",
       "      <th>0</th>\n",
       "      <td>-0.952389</td>\n",
       "      <td>-0.947360</td>\n",
       "      <td>0.068185</td>\n",
       "      <td>0.282200</td>\n",
       "      <td>-1.695984</td>\n",
       "      <td>0</td>\n",
       "    </tr>\n",
       "    <tr>\n",
       "      <th>1</th>\n",
       "      <td>-0.902393</td>\n",
       "      <td>-0.879959</td>\n",
       "      <td>-0.729472</td>\n",
       "      <td>0.633308</td>\n",
       "      <td>-1.648852</td>\n",
       "      <td>0</td>\n",
       "    </tr>\n",
       "    <tr>\n",
       "      <th>2</th>\n",
       "      <td>-0.952389</td>\n",
       "      <td>-1.014761</td>\n",
       "      <td>-0.227450</td>\n",
       "      <td>0.944290</td>\n",
       "      <td>-1.617430</td>\n",
       "      <td>0</td>\n",
       "    </tr>\n",
       "    <tr>\n",
       "      <th>3</th>\n",
       "      <td>-0.902393</td>\n",
       "      <td>-0.947360</td>\n",
       "      <td>-0.590021</td>\n",
       "      <td>-0.048845</td>\n",
       "      <td>-1.586009</td>\n",
       "      <td>0</td>\n",
       "    </tr>\n",
       "    <tr>\n",
       "      <th>4</th>\n",
       "      <td>-0.902393</td>\n",
       "      <td>-0.879959</td>\n",
       "      <td>-0.729472</td>\n",
       "      <td>0.001313</td>\n",
       "      <td>-1.554588</td>\n",
       "      <td>0</td>\n",
       "    </tr>\n",
       "    <tr>\n",
       "      <th>...</th>\n",
       "      <td>...</td>\n",
       "      <td>...</td>\n",
       "      <td>...</td>\n",
       "      <td>...</td>\n",
       "      <td>...</td>\n",
       "      <td>...</td>\n",
       "    </tr>\n",
       "    <tr>\n",
       "      <th>9995</th>\n",
       "      <td>-0.602417</td>\n",
       "      <td>-1.082162</td>\n",
       "      <td>0.363820</td>\n",
       "      <td>-1.052012</td>\n",
       "      <td>-1.476034</td>\n",
       "      <td>0</td>\n",
       "    </tr>\n",
       "    <tr>\n",
       "      <th>9996</th>\n",
       "      <td>-0.552421</td>\n",
       "      <td>-1.082162</td>\n",
       "      <td>0.520005</td>\n",
       "      <td>-0.821283</td>\n",
       "      <td>-1.428902</td>\n",
       "      <td>0</td>\n",
       "    </tr>\n",
       "    <tr>\n",
       "      <th>9997</th>\n",
       "      <td>-0.502425</td>\n",
       "      <td>-0.947360</td>\n",
       "      <td>0.592519</td>\n",
       "      <td>-0.660777</td>\n",
       "      <td>-1.350349</td>\n",
       "      <td>0</td>\n",
       "    </tr>\n",
       "    <tr>\n",
       "      <th>9998</th>\n",
       "      <td>-0.502425</td>\n",
       "      <td>-0.879959</td>\n",
       "      <td>-0.729472</td>\n",
       "      <td>0.854005</td>\n",
       "      <td>-1.303217</td>\n",
       "      <td>0</td>\n",
       "    </tr>\n",
       "    <tr>\n",
       "      <th>9999</th>\n",
       "      <td>-0.502425</td>\n",
       "      <td>-0.879959</td>\n",
       "      <td>-0.216294</td>\n",
       "      <td>0.021376</td>\n",
       "      <td>-1.224663</td>\n",
       "      <td>0</td>\n",
       "    </tr>\n",
       "  </tbody>\n",
       "</table>\n",
       "<p>10000 rows × 6 columns</p>\n",
       "</div>"
      ],
      "text/plain": [
       "      Air temperature [K]  Process temperature [K]  Rotational speed [rpm]  \\\n",
       "0               -0.952389                -0.947360                0.068185   \n",
       "1               -0.902393                -0.879959               -0.729472   \n",
       "2               -0.952389                -1.014761               -0.227450   \n",
       "3               -0.902393                -0.947360               -0.590021   \n",
       "4               -0.902393                -0.879959               -0.729472   \n",
       "...                   ...                      ...                     ...   \n",
       "9995            -0.602417                -1.082162                0.363820   \n",
       "9996            -0.552421                -1.082162                0.520005   \n",
       "9997            -0.502425                -0.947360                0.592519   \n",
       "9998            -0.502425                -0.879959               -0.729472   \n",
       "9999            -0.502425                -0.879959               -0.216294   \n",
       "\n",
       "      Torque [Nm]  Tool wear [min]  Machine failure  \n",
       "0        0.282200        -1.695984                0  \n",
       "1        0.633308        -1.648852                0  \n",
       "2        0.944290        -1.617430                0  \n",
       "3       -0.048845        -1.586009                0  \n",
       "4        0.001313        -1.554588                0  \n",
       "...           ...              ...              ...  \n",
       "9995    -1.052012        -1.476034                0  \n",
       "9996    -0.821283        -1.428902                0  \n",
       "9997    -0.660777        -1.350349                0  \n",
       "9998     0.854005        -1.303217                0  \n",
       "9999     0.021376        -1.224663                0  \n",
       "\n",
       "[10000 rows x 6 columns]"
      ]
     },
     "execution_count": 252,
     "metadata": {},
     "output_type": "execute_result"
    }
   ],
   "source": [
    "df_normalized"
   ]
  },
  {
   "cell_type": "markdown",
   "metadata": {},
   "source": [
    "Podemos notar um desbalanceamento significativo entre os valores da classe, existem muito mais casos de máquinas sem falha do que com falha. Então para cada algoritmo usarei uma técnica para tratar isso.\n"
   ]
  },
  {
   "cell_type": "code",
   "execution_count": 253,
   "metadata": {},
   "outputs": [
    {
     "name": "stdout",
     "output_type": "stream",
     "text": [
      "9661\n"
     ]
    }
   ],
   "source": [
    "df_normalized_mf = df_normalized[df_normalized['Machine failure'] == 1]\n",
    "print(len(df_normalized)-len(df_normalized_mf))"
   ]
  },
  {
   "cell_type": "markdown",
   "metadata": {},
   "source": [
    "#### Separando os atributos da classe\n"
   ]
  },
  {
   "cell_type": "code",
   "execution_count": 254,
   "metadata": {},
   "outputs": [],
   "source": [
    "X = df.drop('Machine failure',axis=1)\n",
    "y = df['Machine failure']"
   ]
  },
  {
   "cell_type": "markdown",
   "metadata": {},
   "source": [
    "## KNN\n"
   ]
  },
  {
   "cell_type": "markdown",
   "metadata": {},
   "source": [
    "Para o KNN aplicarei as técnicas de Random Under-Sampling e depois Random Over-Sampling, no final verificando qual delas foi a melhor para o caso.\n"
   ]
  },
  {
   "cell_type": "markdown",
   "metadata": {},
   "source": [
    "### Under-Sampling\n"
   ]
  },
  {
   "cell_type": "markdown",
   "metadata": {},
   "source": [
    "No under-sampling, diminuímos a quantidade de entradas de máquinas em bom funcionamento para a quantidade se igualar a de máquinas com falha.\n"
   ]
  },
  {
   "cell_type": "code",
   "execution_count": 256,
   "metadata": {},
   "outputs": [
    {
     "name": "stdout",
     "output_type": "stream",
     "text": [
      "Balanceamento de classe: \n",
      "Machine failure\n",
      "0    339\n",
      "1    339\n",
      "Name: count, dtype: int64\n"
     ]
    }
   ],
   "source": [
    "rus = RandomUnderSampler(sampling_strategy=1, random_state=51)\n",
    "X_res, y_res = rus.fit_resample(X, y)\n",
    "print('Balanceamento de classe: ')\n",
    "print(y_res.value_counts())\n",
    "X_train_us, X_test_us, y_train_us, y_test_us = train_test_split(X_res, y_res, test_size=0.2, random_state=1)"
   ]
  },
  {
   "cell_type": "markdown",
   "metadata": {},
   "source": [
    "Para encontrar o melhor k para o KNN vamos fazer testes com valores de 1 a 70, usando o erro médio como medida:\n"
   ]
  },
  {
   "cell_type": "code",
   "execution_count": 299,
   "metadata": {},
   "outputs": [
    {
     "data": {
      "image/png": "[encoded data removed]",
      "text/plain": [
       "<Figure size 1200x600 with 1 Axes>"
      ]
     },
     "metadata": {},
     "output_type": "display_data"
    }
   ],
   "source": [
    "X_train, X_test, y_train, y_test = train_test_split(X, y, test_size=0.2, random_state=1)\n",
    "errors = []\n",
    "k = 70\n",
    "\n",
    "for i in range(1,k+1):\n",
    "\tknn = KNeighborsClassifier(n_neighbors=i)\n",
    "\tknn.fit(X_train_us,y_train_us)\n",
    "\ty_pred = knn.predict(X_test_us)\n",
    "\terrors.append(np.mean(y_pred != y_test_us))\n",
    "\n",
    "plt.figure(figsize=(12, 6))\n",
    "plt.plot(range(1, k+1), errors, color='blue', linestyle='dashed', marker='o',\n",
    "         markerfacecolor='red', markersize=10)\n",
    "plt.title('Erro Médio x Número de Vizinhos')\n",
    "plt.xticks([1,5,10,20,22,30,40,50])\n",
    "\n",
    "plt.xlabel('Número de Vizinhos')\n",
    "plt.ylabel('Acurácia')\n",
    "plt.show()"
   ]
  },
  {
   "cell_type": "markdown",
   "metadata": {},
   "source": [
    "Para a minimização do erro médio, o melhor k encontrado é o 22 para o caso com under-sampling.\n"
   ]
  },
  {
   "cell_type": "code",
   "execution_count": 300,
   "metadata": {},
   "outputs": [
    {
     "name": "stdout",
     "output_type": "stream",
     "text": [
      "0.16176470588235295\n",
      "22\n"
     ]
    }
   ],
   "source": [
    "print(min(errors))\n",
    "print(errors.index(min(errors))+1)"
   ]
  },
  {
   "cell_type": "markdown",
   "metadata": {},
   "source": [
    "### Over-Sampling\n"
   ]
  },
  {
   "cell_type": "markdown",
   "metadata": {},
   "source": [
    "No over-sampling ocorre oposto, geramos mais entradas de máquinas com falhas para se igualar a de máquinas sem falha.\n"
   ]
  },
  {
   "cell_type": "code",
   "execution_count": 259,
   "metadata": {},
   "outputs": [
    {
     "name": "stdout",
     "output_type": "stream",
     "text": [
      "Balanceamento de classe: \n",
      "Machine failure\n",
      "0    9661\n",
      "1    9661\n",
      "Name: count, dtype: int64\n"
     ]
    }
   ],
   "source": [
    "ros = RandomOverSampler(sampling_strategy=1,random_state=2)\n",
    "X_res, y_res = ros.fit_resample(X, y)\n",
    "print('Balanceamento de classe: ')\n",
    "print(y_res.value_counts())\n",
    "X_train_os, X_test_os, y_train_os, y_test_os = train_test_split(X_res, y_res, test_size=0.2, random_state=1)"
   ]
  },
  {
   "cell_type": "markdown",
   "metadata": {},
   "source": [
    "Usaremos a mesma técnica que anteriormente para encontrar o melhor valor de k:\n"
   ]
  },
  {
   "cell_type": "code",
   "execution_count": 260,
   "metadata": {},
   "outputs": [
    {
     "data": {
      "image/png": "[encoded data removed]",
      "text/plain": [
       "<Figure size 1200x600 with 1 Axes>"
      ]
     },
     "metadata": {},
     "output_type": "display_data"
    }
   ],
   "source": [
    "errors = []\n",
    "k = 70\n",
    "\n",
    "for i in range(1,k+1):\n",
    "\tknn = KNeighborsClassifier(n_neighbors=i)\n",
    "\tknn.fit(X_train_os,y_train_os)\n",
    "\ty_pred = knn.predict(X_test_os)\n",
    "\terrors.append(np.mean(y_pred != y_test_os))\n",
    "\n",
    "plt.figure(figsize=(12, 6))\n",
    "plt.plot(range(1, k+1), errors, color='blue', linestyle='dashed', marker='o',\n",
    "         markerfacecolor='red', markersize=10)\n",
    "plt.title('Erro Médio x Número de Vizinhos')\n",
    "plt.xticks([1,5,10,20,22,30,40,50])\n",
    "\n",
    "plt.xlabel('Número de Vizinhos')\n",
    "plt.ylabel('Acurácia')\n",
    "plt.show()"
   ]
  },
  {
   "cell_type": "code",
   "execution_count": 261,
   "metadata": {},
   "outputs": [
    {
     "name": "stdout",
     "output_type": "stream",
     "text": [
      "0.01034928848641656\n",
      "1\n"
     ]
    }
   ],
   "source": [
    "print(min(errors))\n",
    "print(errors.index(min(errors))+1)"
   ]
  },
  {
   "cell_type": "markdown",
   "metadata": {},
   "source": [
    "Aqui encontramos um comportamento estranho, a conclusão tirada foi que para casos onde o desbalanceamento é muito grande, a geração de novos casos para compensar se torna mais complexa. Foram gerados tantos casos novos que eles começaram a ficar muito repetitivos, assim é como se treinassemos e testassemos o modelo com o mesmo conjunto.\n",
    "\n",
    "Por isso, para melhor versão de modelo escolhi o aquele treinado com under-sampling e k=22:\n"
   ]
  },
  {
   "cell_type": "code",
   "execution_count": 301,
   "metadata": {},
   "outputs": [],
   "source": [
    "knn = KNeighborsClassifier(n_neighbors=22)\n",
    "knn.fit(X_train_us,y_train_us)\n",
    "y_pred = knn.predict(X_test_us)"
   ]
  },
  {
   "cell_type": "code",
   "execution_count": 302,
   "metadata": {},
   "outputs": [
    {
     "name": "stdout",
     "output_type": "stream",
     "text": [
      "Matriz de Confusão: \n",
      "[[50  6]\n",
      " [16 64]] \n",
      "\n",
      "Métricas de classificação: \n",
      "               precision    recall  f1-score   support\n",
      "\n",
      "           0       0.76      0.89      0.82        56\n",
      "           1       0.91      0.80      0.85        80\n",
      "\n",
      "    accuracy                           0.84       136\n",
      "   macro avg       0.84      0.85      0.84       136\n",
      "weighted avg       0.85      0.84      0.84       136\n",
      "\n",
      "Acurácia: 0.8382352941176471\n"
     ]
    }
   ],
   "source": [
    "print(\"Matriz de Confusão: \")\n",
    "print(confusion_matrix(y_test_us, y_pred), \"\\n\")  \n",
    "\n",
    "print(\"Métricas de classificação: \\n\", classification_report(y_test_us, y_pred))  \n",
    "\n",
    "print('Acurácia:' , accuracy_score(y_test_us, y_pred))"
   ]
  },
  {
   "cell_type": "markdown",
   "metadata": {},
   "source": [
    "## Random Forest\n"
   ]
  },
  {
   "cell_type": "markdown",
   "metadata": {},
   "source": [
    "Para compensar o desbalanceamento de classe, utilizarei pesos diferentes para cada classe. Quando o hiper-parâmetro class_weight é igual a 'balanced', o modelo fará com que o peso da classe seja inversamente proporcional a sua frequência, nesse caso, errar quando a máquina tem uma falha possui mais peso do que errar para uma máquina em bom funcionamento.\n",
    "\n",
    "Para encontrar os melhores hiper-parâmetros foi utilizado o algoritmo do grid search para testar para todos os casos.\n"
   ]
  },
  {
   "cell_type": "code",
   "execution_count": 287,
   "metadata": {},
   "outputs": [
    {
     "name": "stdout",
     "output_type": "stream",
     "text": [
      "{'class_weight': 'balanced', 'criterion': 'entropy', 'max_depth': 15, 'min_samples_leaf': 3, 'min_samples_split': 2, 'n_estimators': 75}\n"
     ]
    }
   ],
   "source": [
    "X_train, X_test, y_train, y_test = train_test_split(X, y, test_size=0.2, random_state=1)\n",
    "\n",
    "param_grid = {\n",
    "        'n_estimators':[50,75,100],\n",
    "\t'criterion': ['gini','entropy'],\n",
    "\t'max_depth': [None, 5, 10, 15],\n",
    "\t'min_samples_split': [2, 3, 5],\n",
    "\t'min_samples_leaf': [1,3],\n",
    "\t'class_weight':['balanced']\n",
    "}\n",
    "\n",
    "\n",
    "grid_search = GridSearchCV(\n",
    "\testimator=RandomForestClassifier(),\n",
    "\tparam_grid= param_grid,\n",
    "\tcv = 5\n",
    ")\n",
    "\n",
    "\n",
    "grid_search.fit(X_train,y_train)\n",
    "\n",
    "best_params = grid_search.best_params_\n",
    "print(best_params)"
   ]
  },
  {
   "cell_type": "code",
   "execution_count": 289,
   "metadata": {},
   "outputs": [],
   "source": [
    "rf = RandomForestClassifier(class_weight='balanced',\n",
    "                            criterion = 'entropy',\n",
    "                            max_depth= None,\n",
    "                            min_samples_leaf= 3,\n",
    "                            min_samples_split= 2,\n",
    "                            n_estimators= 75)\n",
    "\n",
    "rf.fit(X_train,y_train)\n",
    "\n",
    "y_pred = rf.predict(X_test)"
   ]
  },
  {
   "cell_type": "code",
   "execution_count": 290,
   "metadata": {},
   "outputs": [
    {
     "name": "stdout",
     "output_type": "stream",
     "text": [
      "Matriz de Confusão: \n",
      "[[1926   11]\n",
      " [  16   47]] \n",
      "\n",
      "Métricas de classificação: \n",
      "               precision    recall  f1-score   support\n",
      "\n",
      "           0       0.99      0.99      0.99      1937\n",
      "           1       0.81      0.75      0.78        63\n",
      "\n",
      "    accuracy                           0.99      2000\n",
      "   macro avg       0.90      0.87      0.88      2000\n",
      "weighted avg       0.99      0.99      0.99      2000\n",
      "\n",
      "Acurácia: 0.9865\n"
     ]
    }
   ],
   "source": [
    "print(\"Matriz de Confusão: \")\n",
    "print(confusion_matrix(y_test, y_pred), \"\\n\")  \n",
    "\n",
    "print(\"Métricas de classificação: \\n\", classification_report(y_test, y_pred))  \n",
    "\n",
    "print('Acurácia:' , accuracy_score(y_test, y_pred))"
   ]
  },
  {
   "cell_type": "markdown",
   "metadata": {},
   "source": [
    "## Conclusão\n",
    "\n",
    "O melhor modelo do experimento foi o KNN, apesar do Random Forest possuir melhor acurácia, ela é devida ao desbalanceamento da classe. No quesito das métricas, o KNN obteve melhor precisão e recall para classificar máquinas defeituosas, possuindo a mesma quantidade de falsos positivos mas uma quantidade menor de falsos negativos. O mais importante era classificar corretamente as máquinas defeituosas, evitando que uma máquina com defeito entre em funcionamento possivelmente causando algum acidente ou que uma máquinas sem defeito passe por uma manutenção desnecessária e o modelo que melhor fez isso foi o KNN. Porém, é importante ressaltar que ele foi treinado com uma quantidade muito inferior de dados que o Random Forest, assim sendo possível que ele não é o mais generalizado.\n"
   ]
  }
 ],
 "metadata": {
  "kernelspec": {
   "display_name": "Python 3",
   "language": "python",
   "name": "python3"
  },
  "language_info": {
   "codemirror_mode": {
    "name": "ipython",
    "version": 3
   },
   "file_extension": ".py",
   "mimetype": "text/x-python",
   "name": "python",
   "nbconvert_exporter": "python",
   "pygments_lexer": "ipython3",
   "version": "3.11.9"
  }
 },
 "nbformat": 4,
 "nbformat_minor": 2
}
